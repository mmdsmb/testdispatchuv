{
 "cells": [
  {
   "cell_type": "code",
   "execution_count": null,
   "metadata": {},
   "outputs": [],
   "source": [
    "from app.models.hotes import HotesSync\n",
    "\n",
    "# Exemple d'utilisation\n",
    "sync = HotesSync()\n",
    "result = await sync.sync(\"1hVtUng_VuP1obHFjMeEJBjngE34FOFkm9J_4bgF7tPk\", auto_apply=False)\n",
    "print(result)"
   ]
  }
 ],
 "metadata": {
  "language_info": {
   "name": "python"
  }
 },
 "nbformat": 4,
 "nbformat_minor": 2
}
