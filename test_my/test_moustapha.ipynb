{
 "cells": [
  {
   "cell_type": "code",
   "execution_count": 7,
   "metadata": {},
   "outputs": [
    {
     "name": "stderr",
     "output_type": "stream",
     "text": [
      "2025-05-11 14:11:06,167 - googleapiclient.discovery_cache - INFO - file_cache is only supported with oauth2client<4.0.0\n",
      "2025-05-11 14:11:07,540 - app.models.hotes - INFO - Fichier Excel téléchargé : BD_MX-25.xlsx\n",
      "2025-05-11 14:11:07,540 - app.models.hotes - INFO - Fichier téléchargé : BD_MX-25.xlsx\n",
      "2025-05-11 14:11:07,635 - app.models.hotes - INFO - Nombre de lignes valides lues : 79\n",
      "2025-05-11 14:11:07,635 - app.models.hotes - INFO - Nombre d'hôtes lus : 79\n",
      "2025-05-11 14:11:07,980 - httpx - INFO - HTTP Request: GET https://zpjemgpnfaeayofvnkzo.supabase.co/rest/v1/Hotes?select=%2A \"HTTP/2 200 OK\"\n",
      "2025-05-11 14:11:07,985 - app.models.hotes - INFO - Nombre d'hôtes existants : 153\n",
      "2025-05-11 14:11:07,986 - app.models.hotes - INFO - Changements détectés : 0 insertions, 0 mises à jour\n",
      "2025-05-11 14:11:07,987 - app.models.hotes - INFO - Changements à appliquer : 0 insertions\n"
     ]
    },
    {
     "name": "stdout",
     "output_type": "stream",
     "text": [
      "{'success': True, 'message': 'Changements appliqués avec succès'}\n"
     ]
    }
   ],
   "source": [
    "import sys\n",
    "sys.path.append(\"/Users/mustafa/Documents/MyWorkspaces/testdispatchuv\")\n",
    "\n",
    "from app.models.hotes import HotesSync\n",
    "from app.core.config import get_settings\n",
    "import asyncio\n",
    "\n",
    "async def main():\n",
    "    settings = get_settings()\n",
    "    sync = HotesSync()\n",
    "    # Le file_id sera automatiquement récupéré depuis HOTES_FILE_ID dans .env\n",
    "    \n",
    "    result = await sync.sync(settings.HOTES_FILE_ID,auto_apply=True)\n",
    "    print(result)\n",
    "\n",
    "# Exécution dans Jupyter Notebook\n",
    "await main()  # Remplacez asyncio.run(main()) par cette ligne"
   ]
  }
 ],
 "metadata": {
  "kernelspec": {
   "display_name": ".venv",
   "language": "python",
   "name": "python3"
  },
  "language_info": {
   "codemirror_mode": {
    "name": "ipython",
    "version": 3
   },
   "file_extension": ".py",
   "mimetype": "text/x-python",
   "name": "python",
   "nbconvert_exporter": "python",
   "pygments_lexer": "ipython3",
   "version": "3.9.22"
  }
 },
 "nbformat": 4,
 "nbformat_minor": 2
}
